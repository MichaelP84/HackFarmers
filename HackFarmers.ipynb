{
 "cells": [
  {
   "cell_type": "code",
   "execution_count": null,
   "id": "a3a1cec4",
   "metadata": {},
   "outputs": [],
   "source": [
    "import numpy as np\n",
    "import pandas as pd\n",
    "import matplotlib.pyplot as plt\n",
    "import seaborn as sns\n",
    "from scipy import stats as stat"
   ]
  },
  {
   "cell_type": "code",
   "execution_count": null,
   "id": "6619e8cd",
   "metadata": {},
   "outputs": [],
   "source": [
    "barley_pd = pd.read_csv('CerealData/barley-production.csv')\n",
    "maize_pd = pd.read_csv('CerealData/maize-production.csv')\n",
    "rice_pd = pd.read_csv('CerealData/rice-production.csv')\n",
    "rye_pd = pd.read_csv('CerealData/rye-production.csv')\n",
    "wheat_pd = pd.read_csv('CerealData/wheat-production.csv')\n"
   ]
  },
  {
   "cell_type": "code",
   "execution_count": 1,
   "id": "a9f89781",
   "metadata": {},
   "outputs": [
    {
     "ename": "NameError",
     "evalue": "name 'barley_pd' is not defined",
     "output_type": "error",
     "traceback": [
      "\u001b[0;31m---------------------------------------------------------------------------\u001b[0m",
      "\u001b[0;31mNameError\u001b[0m                                 Traceback (most recent call last)",
      "Input \u001b[0;32mIn [1]\u001b[0m, in \u001b[0;36m<cell line: 1>\u001b[0;34m()\u001b[0m\n\u001b[0;32m----> 1\u001b[0m \u001b[43mbarley_pd\u001b[49m\u001b[38;5;241m.\u001b[39mhead()\n\u001b[1;32m      2\u001b[0m barley_pd\u001b[38;5;241m.\u001b[39mhead()\n\u001b[1;32m      3\u001b[0m barley_pd\u001b[38;5;241m.\u001b[39mhead()\n",
      "\u001b[0;31mNameError\u001b[0m: name 'barley_pd' is not defined"
     ]
    }
   ],
   "source": [
    "barley_pd.head()\n",
    "maize_pd.head()\n",
    "rice_pd.head()\n",
    "rye_pd.head()\n",
    "wheat_pd.head()"
   ]
  }
 ],
 "metadata": {
  "kernelspec": {
   "display_name": "Python 3 (ipykernel)",
   "language": "python",
   "name": "python3"
  },
  "language_info": {
   "codemirror_mode": {
    "name": "ipython",
    "version": 3
   },
   "file_extension": ".py",
   "mimetype": "text/x-python",
   "name": "python",
   "nbconvert_exporter": "python",
   "pygments_lexer": "ipython3",
   "version": "3.9.7"
  }
 },
 "nbformat": 4,
 "nbformat_minor": 5
}
